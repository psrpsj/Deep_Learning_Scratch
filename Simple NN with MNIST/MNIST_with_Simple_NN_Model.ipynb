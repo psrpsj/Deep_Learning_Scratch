{
  "nbformat": 4,
  "nbformat_minor": 0,
  "metadata": {
    "colab": {
      "name": "MNIST with Simple NN Model.ipynb",
      "provenance": [],
      "collapsed_sections": []
    },
    "kernelspec": {
      "name": "python3",
      "display_name": "Python 3"
    },
    "language_info": {
      "name": "python"
    }
  },
  "cells": [
    {
      "cell_type": "markdown",
      "source": [
        "# MNIST with Simple NN Model"
      ],
      "metadata": {
        "id": "1HsgmU8xlsX3"
      }
    },
    {
      "cell_type": "markdown",
      "source": [
        "### 1. Dataset"
      ],
      "metadata": {
        "id": "OMp9X-5Gl0sL"
      }
    },
    {
      "cell_type": "code",
      "source": [
        "from torchvision import datasets, transforms\n",
        "mnist_train = datasets.MNIST(root='./data/',train=True,download=True)\n",
        "mnist_test = datasets.MNIST(root='./data/',train=False,download=True)\n",
        "print (\"mnist_train:\\n\",mnist_train,\"\\n\")\n",
        "print (\"mnist_test:\\n\",mnist_test,\"\\n\")\n",
        "print (\"Done.\")"
      ],
      "metadata": {
        "colab": {
          "base_uri": "https://localhost:8080/"
        },
        "id": "mM2-3c5HlxDh",
        "outputId": "01b49e7a-d21b-4f5b-ca8c-2c787784eb8d"
      },
      "execution_count": 17,
      "outputs": [
        {
          "output_type": "stream",
          "name": "stdout",
          "text": [
            "mnist_train:\n",
            " Dataset MNIST\n",
            "    Number of datapoints: 60000\n",
            "    Root location: ./data/\n",
            "    Split: Train \n",
            "\n",
            "mnist_test:\n",
            " Dataset MNIST\n",
            "    Number of datapoints: 10000\n",
            "    Root location: ./data/\n",
            "    Split: Test \n",
            "\n",
            "Done.\n"
          ]
        }
      ]
    },
    {
      "cell_type": "code",
      "source": [
        "from PIL import Image\n",
        "a = np.array(mnist_train[0][0])\n",
        "a = a.reshape(-1,784)\n",
        "a.shape"
      ],
      "metadata": {
        "colab": {
          "base_uri": "https://localhost:8080/"
        },
        "id": "eUB5C4bcrDx4",
        "outputId": "7cf18d2c-031b-4f4b-fee5-ff9837d00831"
      },
      "execution_count": 40,
      "outputs": [
        {
          "output_type": "execute_result",
          "data": {
            "text/plain": [
              "(1, 784)"
            ]
          },
          "metadata": {},
          "execution_count": 40
        }
      ]
    },
    {
      "cell_type": "code",
      "source": [
        "# load pre-defined weight\n",
        "\n",
        "import pickle\n",
        "f = open(\"sample_weight.pkl\", \"rb\") \n",
        "network = pickle.load(f)"
      ],
      "metadata": {
        "id": "TKXLEyn7mFya"
      },
      "execution_count": 9,
      "outputs": []
    },
    {
      "cell_type": "code",
      "source": [
        "import numpy as np\n",
        "\n",
        "def sigmoid(x):\n",
        "\treturn 1 / (1+np.exp(-x))\n",
        "\n",
        "def softmax(a):\n",
        "\texp_a = np.exp(a)\n",
        "\tsum_exp_a = np.sum(exp_a)\n",
        "\ty = exp_a / sum_exp_a\n",
        "\treturn y\n",
        "\n",
        "def predict(network, x):\n",
        "  W1, W2, W3 = network[\"W1\"], network[\"W2\"], network[\"W3\"]\n",
        "  b1, b2, b3 = network[\"b1\"], network[\"b2\"], network['b3']\n",
        "\n",
        "  a1 = np.dot(x, W1) + b1\n",
        "  z1 = sigmoid(a1) \n",
        "  a2 = np.dot(z1, W2) + b2\n",
        "  z2 = sigmoid(a2)\n",
        "  a3 = np.dot(z2, W3) + b3\n",
        "  y = softmax(a3)\n",
        "\n",
        "  return y"
      ],
      "metadata": {
        "id": "0HVrSVv9wUbX"
      },
      "execution_count": 10,
      "outputs": []
    },
    {
      "cell_type": "code",
      "source": [
        "result = predict(network, a)\n",
        "mnist_train[0][0].show()"
      ],
      "metadata": {
        "id": "w2NdeIay9frI",
        "colab": {
          "base_uri": "https://localhost:8080/"
        },
        "outputId": "5cd8c2b8-3013-4264-df75-33578759dce9"
      },
      "execution_count": 47,
      "outputs": [
        {
          "output_type": "stream",
          "name": "stderr",
          "text": [
            "/usr/local/lib/python3.7/dist-packages/ipykernel_launcher.py:4: RuntimeWarning: overflow encountered in exp\n",
            "  after removing the cwd from sys.path.\n"
          ]
        }
      ]
    },
    {
      "cell_type": "code",
      "source": [
        ""
      ],
      "metadata": {
        "id": "0kECo9fBGGhf"
      },
      "execution_count": null,
      "outputs": []
    }
  ]
}