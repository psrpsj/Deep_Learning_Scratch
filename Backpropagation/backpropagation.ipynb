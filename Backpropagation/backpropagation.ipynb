{
  "nbformat": 4,
  "nbformat_minor": 0,
  "metadata": {
    "colab": {
      "name": "backpropagation.ipynb",
      "provenance": [],
      "collapsed_sections": []
    },
    "kernelspec": {
      "name": "python3",
      "display_name": "Python 3"
    },
    "language_info": {
      "name": "python"
    }
  },
  "cells": [
    {
      "cell_type": "markdown",
      "source": [
        "## 곱셈 & 덧셈 계층 구현\n"
      ],
      "metadata": {
        "id": "cxJzIH7KD0WQ"
      }
    },
    {
      "cell_type": "code",
      "source": [
        "# Multiple\n",
        "\n",
        "class MulLayer:\n",
        "  def __init__(self):\n",
        "    self.x = None\n",
        "    self.y = None\n",
        "  def forward(self, x, y):\n",
        "    self.x = x\n",
        "    self.y = y\n",
        "    return x * y\n",
        "  def backward(self, out):\n",
        "    dx = out * self.y\n",
        "    dy = out * self.x\n",
        "\n",
        "    return dx, dy"
      ],
      "metadata": {
        "id": "yRDRHHIYD6Dh"
      },
      "execution_count": null,
      "outputs": []
    },
    {
      "cell_type": "code",
      "source": [
        "class AddLayer:\n",
        "  def __init__(self):\n",
        "    pass\n",
        "  def forward(self, x, y):\n",
        "    return x + y\n",
        "  def backward(self, out):\n",
        "    dx = out * 1\n",
        "    dy = out * 1\n",
        "    return dx, dy"
      ],
      "metadata": {
        "id": "6XXrlcpjHK7N"
      },
      "execution_count": null,
      "outputs": []
    },
    {
      "cell_type": "markdown",
      "source": [
        "## 활성화함수"
      ],
      "metadata": {
        "id": "WTcH-cWVmzWj"
      }
    },
    {
      "cell_type": "code",
      "source": [
        "# ReLU\n",
        "\n",
        "class Relu:\n",
        "    def __init__(self):\n",
        "      self.mask = None\n",
        "    def forward(self, x):\n",
        "      self.mask = (x <= 0)\n",
        "      out = x.copy()\n",
        "      out[self.mask] = 0\n",
        "      return out\n",
        "    def backward(self, out):\n",
        "      out[self.mask] = 0\n",
        "      x = out\n",
        "      return x"
      ],
      "metadata": {
        "id": "nSsSCe5qm1EN"
      },
      "execution_count": null,
      "outputs": []
    }
  ]
}