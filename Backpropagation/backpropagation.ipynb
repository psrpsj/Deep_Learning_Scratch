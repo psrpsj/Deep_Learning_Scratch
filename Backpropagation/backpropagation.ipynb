{
  "nbformat": 4,
  "nbformat_minor": 0,
  "metadata": {
    "colab": {
      "name": "backpropagation.ipynb",
      "provenance": [],
      "collapsed_sections": []
    },
    "kernelspec": {
      "name": "python3",
      "display_name": "Python 3"
    },
    "language_info": {
      "name": "python"
    }
  },
  "cells": [
    {
      "cell_type": "markdown",
      "source": [
        "## 곱셈 & 덧셈 계층 구현\n"
      ],
      "metadata": {
        "id": "cxJzIH7KD0WQ"
      }
    },
    {
      "cell_type": "code",
      "source": [
        "# Multiple\n",
        "class MulLayer:\n",
        "  def __init__(self):\n",
        "    self.x = None\n",
        "    self.y = None\n",
        "  def forward(self, x, y):\n",
        "    self.x = x\n",
        "    self.y = y\n",
        "    return x * y\n",
        "  def backward(self, out):\n",
        "    dx = out * self.y\n",
        "    dy = out * self.x\n",
        "\n",
        "    return dx, dy"
      ],
      "metadata": {
        "id": "yRDRHHIYD6Dh"
      },
      "execution_count": null,
      "outputs": []
    },
    {
      "cell_type": "code",
      "source": [
        "# Add\n",
        "class AddLayer:\n",
        "  def __init__(self):\n",
        "    pass\n",
        "  def forward(self, x, y):\n",
        "    return x + y\n",
        "  def backward(self, out):\n",
        "    dx = out * 1\n",
        "    dy = out * 1\n",
        "    return dx, dy"
      ],
      "metadata": {
        "id": "6XXrlcpjHK7N"
      },
      "execution_count": null,
      "outputs": []
    },
    {
      "cell_type": "markdown",
      "source": [
        "## 활성화함수"
      ],
      "metadata": {
        "id": "WTcH-cWVmzWj"
      }
    },
    {
      "cell_type": "code",
      "source": [
        "# ReLU\n",
        "class Relu:\n",
        "    def __init__(self):\n",
        "      self.mask = None\n",
        "    def forward(self, x):\n",
        "      self.mask = (x <= 0)\n",
        "      out = x.copy()\n",
        "      out[self.mask] = 0\n",
        "      return out\n",
        "    def backward(self, out):\n",
        "      out[self.mask] = 0\n",
        "      x = out\n",
        "      return x\n",
        "\n",
        "# Sigmoid\n",
        "class Sigmoid:\n",
        "  def __init__(self):\n",
        "    self.out = None\n",
        "  def forward(self, x):\n",
        "    out = 1 / (1+ np.exp(-x))\n",
        "    self.out = out\n",
        "    return out\n",
        "  def backward(self, out):\n",
        "    x = out * (1.0 - self.out) * self.out\n",
        "    return x"
      ],
      "metadata": {
        "id": "nSsSCe5qm1EN"
      },
      "execution_count": null,
      "outputs": []
    },
    {
      "cell_type": "markdown",
      "source": [
        "## Affine & Softmax"
      ],
      "metadata": {
        "id": "psuACcMvBT18"
      }
    },
    {
      "cell_type": "code",
      "source": [
        "# Affine\n",
        "class Affine:\n",
        "  def __init__(self, W, b):\n",
        "    self.W = W\n",
        "    self.b = b\n",
        "    self.x = None\n",
        "    self.dW = None\n",
        "    self.db = None\n",
        "  \n",
        "  def forward(self, x):\n",
        "    self.x = x\n",
        "    out = np.dot(x, self.W) + self.b\n",
        "    return out\n",
        "\n",
        "  def backward(self, out):\n",
        "    dx = np.dot(out, self.W.T)\n",
        "    self.dW = np.dot(self.x.T, out)\n",
        "    self.db = np.sum(out, axis=0)\n",
        "    return dx\n",
        "\n",
        "# Softmax\n",
        "class SoftmaxWithLoss:\n",
        "  def __init__(self):\n",
        "    self.loss = None\n",
        "    self.y = None\n",
        "    self.t = None\n",
        "\n",
        "  def forward(self,x,t):\n",
        "    self.t = t\n",
        "    self.y = softmax(x)\n",
        "    self.loss = cross_entropy_error(self.y, self,t)\n",
        "    return self.loss\n",
        "\n",
        "  def backward(self, dout=1):\n",
        "    batch_size = self.t.shape[0]\n",
        "    dx = (self.y - self.t) / batch_size\n",
        "    return dx"
      ],
      "metadata": {
        "id": "h5y6pLpdBW23"
      },
      "execution_count": null,
      "outputs": []
    }
  ]
}