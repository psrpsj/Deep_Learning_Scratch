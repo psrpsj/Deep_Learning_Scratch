{
  "nbformat": 4,
  "nbformat_minor": 0,
  "metadata": {
    "colab": {
      "name": "Convolution Neural Network.ipynb",
      "provenance": [],
      "collapsed_sections": []
    },
    "kernelspec": {
      "name": "python3",
      "display_name": "Python 3"
    },
    "language_info": {
      "name": "python"
    }
  },
  "cells": [
    {
      "cell_type": "code",
      "source": [
        "import numpy as np"
      ],
      "metadata": {
        "id": "IJUtM_AyCgwr"
      },
      "execution_count": null,
      "outputs": []
    },
    {
      "cell_type": "markdown",
      "source": [
        "## 합성곱 및 풀링계층 구현"
      ],
      "metadata": {
        "id": "XlKPUNb52ua3"
      }
    },
    {
      "cell_type": "code",
      "execution_count": null,
      "metadata": {
        "id": "M1Ok9kQU2hoo"
      },
      "outputs": [],
      "source": [
        "# im2col -> image to column\n",
        "\n",
        "def im2col(input_data, filter_h, filter_w, stride=1, pad=0):\n",
        "  # input_data: 4차원 배열 형태의 입력데이터(이미지 수, 채널 수, 높이, 너비)\n",
        "  # filter_h : 필터의 높이\n",
        "  # filter_w : 필터의 너비\n",
        "  # returns: col(2차원 배열)\n",
        "\n",
        "  N, C, H, W = input_data.shape\n",
        "  out_h = (H+ 2*pad - filter_h) // stride + 1\n",
        "  out_w = (W+ 2*pad - filter_w) // stride + 1\n",
        "\n",
        "  img = np.pad(input_data, [(0,0), (0,0), (pad, pad), (pad,pad)], 'constant')\n",
        "  col = np.zeros((N,C, filter_h, filter_w, out_h, out_w))\n",
        "\n",
        "  for y in range(filter_h):\n",
        "    y_max = y + stride*out_h\n",
        "    for x in range(filter_w):\n",
        "      x_max = x + stride*out_w\n",
        "      col[:,:,y,x,:,:] = img[:,:,y:y_max:stride, x:x_max:stride]\n",
        "  col = col.transpose(0,4,5,1,2,3).reshape(N*out_h*out_w, -1)\n",
        "  return col\n",
        "\n",
        "\n",
        "  # col2im -> column to image\n",
        "  def col2im(col, input_shape, filter_h, filter_w, stride=1, pad=0):\n",
        "    # col: 2차원 배열(입력데이터)\n",
        "    # input_shape : 원래 이미지 데이터의 형상\n",
        "    # return : img: 변환된 이미지\n",
        "\n",
        "    N, C, H, W = input_shape\n",
        "    out_h = (H + 2*pad - filter_h) // stride + 1\n",
        "    out_w = (W + 2*pad - filter_w) // stride + 1\n",
        "    col = col.reshape(N, out_h, out_w, C, filter_h, filter_w).transpose(0,3,4,5,1,2)\n",
        "\n",
        "    img = np.zeros((N, C, H + 2*pad + stride - 1, W + 2*pad + stride - 1))\n",
        "    for y in range(filter_h):\n",
        "      y_max = y + stride * out_h\n",
        "      for x in range(filter_w):\n",
        "        x_max = x + stride*out_w\n",
        "        img[:, :, y:y_max:stride, x:x_max:stride] += col[:, :, y, x, :, :]\n",
        "    return img[:, :, pad:H+pad, pad:W + pad]"
      ]
    },
    {
      "cell_type": "markdown",
      "source": [
        "### 1. 합성곱 구현"
      ],
      "metadata": {
        "id": "ur6sZWg0w1pp"
      }
    },
    {
      "cell_type": "code",
      "source": [
        "class Convolution:\n",
        "  def __init__(self, W, b, stride=1, pad=0):\n",
        "    self.W = W\n",
        "    self.b = b\n",
        "    self.stride = stride\n",
        "    self.pad = pad\n",
        "\n",
        "  def forward(self, x):\n",
        "    FN, C, FH, FW = self.W.shape # 필터개수, 채널, 필터높이, 필터너비\n",
        "    N,C,H,W = x.shape\n",
        "    out_h = int(1 + (H + 2*self.pad - FH) / self.stride)\n",
        "    out_w = int(1 + (W + 2*self.pad - FW) / self.stride)\n",
        "\n",
        "    col = im2col(x, FH, FW, self.stride, self.pad)\n",
        "    col_W = self.W.reshape(FN, -1).T # 2차원 배열로 전개\n",
        "    out = np.dot(col, col_W) + self.b\n",
        "\n",
        "    out = out.reshape(N, out_h, out_w, -1).transpose(0,3,1,2) # transpose : 다차원 배열의 축 순서를 바꿔 줌\n",
        "    return out\n",
        "\n",
        "  def backward(self, dout):\n",
        "    FN, C, FH, FW = self.W.shape\n",
        "    dout = dout.transpose(0,2,3,1).reshape(-1, FN)\n",
        "\n",
        "    self.db = np.sum(dout, axis=0)\n",
        "    self.dW = np.dot(self.col.T, dout)\n",
        "    self.dW = self.dW.transpose(1,0).reshape(FN,C,FH,FW)\n",
        "\n",
        "    dcol = np.dot(dout, self.col_W.T)\n",
        "    dx = col2im(dcol, self.x.shape, FH, FW, self.stride, self.pad)\n",
        "    return dx"
      ],
      "metadata": {
        "id": "lzpWBlRZw31r"
      },
      "execution_count": null,
      "outputs": []
    },
    {
      "cell_type": "markdown",
      "source": [
        "### 2. 풀링 계층"
      ],
      "metadata": {
        "id": "TTLOO_kzg0TD"
      }
    },
    {
      "cell_type": "markdown",
      "source": [
        "1. 입력 데이터를 전개한다.\n",
        "2. 행별 최댓값을 구한다.\n",
        "3. 적절한 모양으로 reshape을 해준다."
      ],
      "metadata": {
        "id": "qJudQGN-jF-g"
      }
    },
    {
      "cell_type": "code",
      "source": [
        "class Pooling:\n",
        "  def __init__(self, pool_h, pool_w, stride=1, pad=0):\n",
        "    self.pool_h = pool_h\n",
        "    self.pool_w = pool_w\n",
        "    self.stride = stride\n",
        "    self.pad = pad\n",
        "\n",
        "  def forward(self, x):\n",
        "    N, C, H, W = x.shape\n",
        "    out_h = int(1 + (H - self.pool_h) / self.stride)\n",
        "    out_w = int(1 + (W - self.pool_w) / self.stride)\n",
        "\n",
        "    # 전개\n",
        "    col = im2col(x, self.pool_h, self.pool_w, self.stride, self.pad)\n",
        "    col = col.reshape(-1, self.pool_h * self.pool_w)\n",
        "\n",
        "    # 최대값\n",
        "    out = np.max(col, axis=1)\n",
        "\n",
        "    # 성형\n",
        "    out = out.reshape(N, out_h, out_w, C).transpose(0,3,1,2)\n",
        "    return out\n",
        "\n",
        "  def backward(self, dout):\n",
        "    dout = dout.transpose(0, 2, 3, 1)\n",
        "\n",
        "    pool_size = self.pool_h * self.pool_w\n",
        "    dmax = np.zeros((dout.size, pool_size))\n",
        "    dmax[np.arange(self.arg_max.size), self.arg_max.flatten()] = dout.flatten()\n",
        "    dmax = dmax.reshape(dout.shape + (pool_size,))\n",
        "\n",
        "    dcol = dmax.reshape(dmax.shape[0] * dmax.shape[1] * dmax.shape[2], -1)\n",
        "    dx = col2im(dcol, self.x.shape, self.pool_h, self.pool_w, self.stride, self.pad)\n",
        "\n",
        "    return dx"
      ],
      "metadata": {
        "id": "Q4HCni1bg3OS"
      },
      "execution_count": null,
      "outputs": []
    },
    {
      "cell_type": "markdown",
      "source": [
        "### 3. CNN 구현\n",
        "  -  CNN 구성: Conv -> ReLU -> Pooling -> ... -> Affine -> ReLU -> Affine -> Softmax"
      ],
      "metadata": {
        "id": "wQqPnDf6VZBT"
      }
    },
    {
      "cell_type": "code",
      "source": [
        "class Relu:\n",
        "    def __init__(self):\n",
        "      self.mask = None\n",
        "    def forward(self, x):\n",
        "      self.mask = (x <= 0)\n",
        "      out = x.copy()\n",
        "      out[self.mask] = 0\n",
        "      return out\n",
        "    def backward(self, out):\n",
        "      out[self.mask] = 0\n",
        "      x = out\n",
        "      return x\n",
        "\n",
        "class Affine:\n",
        "  def __init__(self, W, b):\n",
        "    self.W = W\n",
        "    self.b = b\n",
        "    self.x = None\n",
        "    self.dW = None\n",
        "    self.db = None\n",
        "  \n",
        "  def forward(self, x):\n",
        "    self.x = x\n",
        "    out = np.dot(x, self.W) + self.b\n",
        "    return out\n",
        "\n",
        "  def backward(self, out):\n",
        "    dx = np.dot(out, self.W.T)\n",
        "    self.dW = np.dot(self.x.T, out)\n",
        "    self.db = np.sum(out, axis=0)\n",
        "    return dx\n",
        "\n",
        "class SoftmaxWithLoss:\n",
        "  def __init__(self):\n",
        "    self.loss = None\n",
        "    self.y = None\n",
        "    self.t = None\n",
        "\n",
        "  def forward(self,x,t):\n",
        "    self.t = t\n",
        "    self.y = softmax(x)\n",
        "    self.loss = cross_entropy_error(self.y, self,t)\n",
        "    return self.loss\n",
        "\n",
        "  def backward(self, dout=1):\n",
        "    batch_size = self.t.shape[0]\n",
        "    dx = (self.y - self.t) / batch_size\n",
        "    return dx"
      ],
      "metadata": {
        "id": "cbFC4Hg03Tjr"
      },
      "execution_count": null,
      "outputs": []
    },
    {
      "cell_type": "code",
      "source": [
        "class SimpleConvNet:\n",
        "  def __init__(self, input_dim = (1,28,28),\n",
        "               conv_param = {\"filter_num\":30, \"filter_size\":5, \"pad\":0, \"stride\":1},\n",
        "               hidden_size = 100, output_size=10, weight_init_std=0.01):\n",
        "    # conv_param: 합성곱 계층의 하이퍼파라미터를 딕셔너리 형태로 주어짐\n",
        "    filter_num = conv_param[\"filter_num\"]\n",
        "    filter_size = conv_param[\"filter_size\"]\n",
        "    filter_pad = conv_param[\"pad\"]\n",
        "    filter_stride = conv_param[\"stride\"]\n",
        "    input_size = input_dim[1]\n",
        "    conv_output_size = (input_size - filter_size + 2*filter_pad) / filter_stride + 1\n",
        "    pool_output_size = int(filter_num * (conv_output_size/2) * (conv_output_size/2))\n",
        "\n",
        "    self.params = {}\n",
        "    self.params[\"W1\"] = weight_init_std * np.random.randn(filter_num, input_dim[0], filter_size, filter_size)\n",
        "    self.params[\"b1\"] = np.zeros(filter_num)\n",
        "    self.params[\"W2\"] = weight_init_std * np.random.randn(pool_output_size, hidden_size)\n",
        "    self.params[\"b2\"] = np.zeros(hidden_size)\n",
        "    self.params[\"W3\"] = weight_init_std * np.random.randn(hidden_size, output_size)\n",
        "    self.params[\"b3\"] = np.zeros(output_size)\n",
        "\n",
        "    self.layers = OrderedDict()\n",
        "    self.layers[\"Conv1\"] = Convolution(self.params[\"W1\"], self.params[\"b1\"], conv_param[\"stride\"]. conv_param[\"pad\"])\n",
        "    self.layers[\"Relu1\"] = Relu()\n",
        "    self.layers[\"Pool1\"] = Pooling(pool_h=2, pool_w=2, stride=2)\n",
        "    self.layers[\"Affine1\"] = Affine(self.params[\"W2\"], self.params[\"b2\"])\n",
        "    self.layers[\"Relu2\"] = Relu()\n",
        "    self.layers[\"Affine2\"] = Affine(self.params[\"W3\"], self.params[\"b3\"])\n",
        "    self.last_layer = SoftmaxWithLoss()"
      ],
      "metadata": {
        "colab": {
          "base_uri": "https://localhost:8080/",
          "height": 130
        },
        "id": "Usasb8ruVsb7",
        "outputId": "1564e29c-1a17-446d-c50e-f8ea8d54439f"
      },
      "execution_count": 1,
      "outputs": [
        {
          "output_type": "error",
          "ename": "SyntaxError",
          "evalue": "ignored",
          "traceback": [
            "\u001b[0;36m  File \u001b[0;32m\"<ipython-input-1-69cc0d9ce9b9>\"\u001b[0;36m, line \u001b[0;32m3\u001b[0m\n\u001b[0;31m    conv_param = {\"filter_num\":30, \"filter_size\":5, \"pad\":0, })\u001b[0m\n\u001b[0m                                                               ^\u001b[0m\n\u001b[0;31mSyntaxError\u001b[0m\u001b[0;31m:\u001b[0m invalid syntax\n"
          ]
        }
      ]
    }
  ]
}