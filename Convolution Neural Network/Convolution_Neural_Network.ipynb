{
  "nbformat": 4,
  "nbformat_minor": 0,
  "metadata": {
    "colab": {
      "name": "Convolution Neural Network.ipynb",
      "provenance": [],
      "collapsed_sections": []
    },
    "kernelspec": {
      "name": "python3",
      "display_name": "Python 3"
    },
    "language_info": {
      "name": "python"
    }
  },
  "cells": [
    {
      "cell_type": "code",
      "source": [
        "import numpy as np"
      ],
      "metadata": {
        "id": "IJUtM_AyCgwr"
      },
      "execution_count": 17,
      "outputs": []
    },
    {
      "cell_type": "markdown",
      "source": [
        "## 합성곱 및 풀링계층 구현"
      ],
      "metadata": {
        "id": "XlKPUNb52ua3"
      }
    },
    {
      "cell_type": "code",
      "execution_count": 6,
      "metadata": {
        "id": "M1Ok9kQU2hoo"
      },
      "outputs": [],
      "source": [
        "# im2col -> image to column\n",
        "\n",
        "def im2col(input_data, filter_h, filter_w, stride=1, pad=0):\n",
        "  # input_data: 4차원 배열 형태의 입력데이터(이미지 수, 채널 수, 높이, 너비)\n",
        "  # filter_h : 필터의 높이\n",
        "  # filter_w : 필터의 너비\n",
        "  # returns: col(2차원 배열)\n",
        "\n",
        "  N, C, H, W = input_data.shape\n",
        "  out_h = (H+ 2*pad - filter_h) // stride + 1\n",
        "  out_w = (W+ 2*pad - filter_w) // stride + 1\n",
        "\n",
        "  img = np.pad(input_data, [(0,0), (0,0), (pad, pad), (pad,pad)], 'constant')\n",
        "  col = np.zeros((N,C, filter_h, filter_w, out_h, out_w))\n",
        "\n",
        "  for y in range(filter_h):\n",
        "    y_max = y + stride*out_h\n",
        "    for x in range(filter_w):\n",
        "      x_max = x + stride*out_w\n",
        "      col[:,:,y,x,:,:] = img[:,:,y:y_max:stride, x:x_max:stride]\n",
        "  col = col.transpose(0,4,5,1,2,3).reshape(N*out_h*out_w, -1)\n",
        "  return col\n",
        "\n",
        "\n",
        "  # col2im -> column to image\n",
        "  def col2im(col, input_shape, filter_h, filter_w, stride=1, pad=0):\n",
        "    # col: 2차원 배열(입력데이터)\n",
        "    # input_shape : 원래 이미지 데이터의 형상\n",
        "    # return : img: 변환된 이미지\n",
        "\n",
        "    N, C, H, W = input_shape\n",
        "    out_h = (H + 2*pad - filter_h) // stride + 1\n",
        "    out_w = (W + 2*pad - filter_w) // stride + 1\n",
        "    col = col.reshape(N, out_h, out_w, C, filter_h, filter_w).transpose(0,3,4,5,1,2)\n",
        "\n",
        "    img = np.zeros((N, C, H + 2*pad + stride - 1, W + 2*pad + stride - 1))\n",
        "    for y in range(filter_h):\n",
        "      y_max = y + stride * out_h\n",
        "      for x in range(filter_w):\n",
        "        x_max = x + stride*out_w\n",
        "        img[:, :, y:y_max:stride, x:x_max:stride] += col[:, :, y, x, :, :]\n",
        "    return img[:, :, pad:H+pad, pad:W + pad]"
      ]
    },
    {
      "cell_type": "markdown",
      "source": [
        "### 1. 합성곱 구현"
      ],
      "metadata": {
        "id": "ur6sZWg0w1pp"
      }
    },
    {
      "cell_type": "code",
      "source": [
        "class Convolution:\n",
        "  def __init__(self, W, b, stride=1, pad=0):\n",
        "    self.W = W\n",
        "    self.b = b\n",
        "    self.stride = stride\n",
        "    self.pad = pad\n",
        "\n",
        "  def forward(self, x):\n",
        "    FN, C, FH, FW = self.W.shape # 필터개수, 채널, 필터높이, 필터너비\n",
        "    N,C,H,W = x.shape\n",
        "    out_h = int(1 + (H + 2*self.pad - FH) / self.stride)\n",
        "    out_w = int(1 + (W + 2*self.pad - FW) / self.stride)\n",
        "\n",
        "    col = im2col(x, FH, FW, self.stride, self.pad)\n",
        "    col_W = self.W.reshape(FN, -1).T # 2차원 배열로 전개\n",
        "    out = np.dot(col, col_W) + self.b\n",
        "\n",
        "    out = out.reshape(N, out_h, out_w, -1).transpose(0,3,1,2) # transpose : 다차원 배열의 축 순서를 바꿔 줌\n",
        "    return out\n",
        "\n",
        "  def backward(self, dout):\n",
        "    FN, C, FH, FW = self.W.shape\n",
        "    dout = dout.transpose(0,2,3,1).reshape(-1, FN)\n",
        "\n",
        "    self.db = np.sum(dout, axis=0)\n",
        "    self.dW = np.dot(self.col.T, dout)\n",
        "    self.dW = self.dW.transpose(1,0).reshape(FN,C,FH,FW)\n",
        "\n",
        "    dcol = np.dot(dout, self.col_W.T)\n",
        "    dx = col2im(dcol, self.x.shape, FH, FW, self.stride, self.pad)\n",
        "    return dx"
      ],
      "metadata": {
        "id": "lzpWBlRZw31r"
      },
      "execution_count": null,
      "outputs": []
    },
    {
      "cell_type": "markdown",
      "source": [
        "### 2. 풀링 계층"
      ],
      "metadata": {
        "id": "TTLOO_kzg0TD"
      }
    },
    {
      "cell_type": "markdown",
      "source": [
        "1. 입력 데이터를 전개한다.\n",
        "2. 행별 최댓값을 구한다.\n",
        "3. 적절한 모양으로 reshape을 해준다."
      ],
      "metadata": {
        "id": "qJudQGN-jF-g"
      }
    },
    {
      "cell_type": "code",
      "source": [
        "class Pooling:\n",
        "  def __init__(self, pool_h, pool_w, stride=1, pad=0):\n",
        "    self.pool_h = pool_h\n",
        "    self.pool_w = pool_w\n",
        "    self.stride = stride\n",
        "    self.pad = pad\n",
        "\n",
        "  def forward(self, x):\n",
        "    N, C, H, W = x.shape\n",
        "    out_h = int(1 + (H - self.pool_h) / self.stride)\n",
        "    out_w = int(1 + (W - self.pool_w) / self.stride)\n",
        "\n",
        "    # 전개\n",
        "    col = im2col(x, self.pool_h, self.pool_w, self.stride, self.pad)\n",
        "    col = col.reshape(-1, self.pool_h * self.pool_w)\n",
        "\n",
        "    # 최대값\n",
        "    out = np.max(col, axis=1)\n",
        "\n",
        "    # 성형\n",
        "    out = out.reshape(N, out_h, out_w, C).transpose(0,3,1,2)\n",
        "    return out"
      ],
      "metadata": {
        "id": "Q4HCni1bg3OS"
      },
      "execution_count": null,
      "outputs": []
    }
  ]
}